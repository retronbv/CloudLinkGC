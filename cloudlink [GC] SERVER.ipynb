{
  "nbformat": 4,
  "nbformat_minor": 0,
  "metadata": {
    "colab": {
      "name": "cloudlink [GC] SERVER.ipynb",
      "provenance": []
    },
    "kernelspec": {
      "name": "python3",
      "display_name": "Python 3"
    },
    "language_info": {
      "name": "python"
    }
  },
  "cells": [
    {
      "cell_type": "code",
      "metadata": {
        "colab": {
          "base_uri": "https://localhost:8080/"
        },
        "id": "8osRUH2038is",
        "outputId": "580f1a7e-a0a6-4a21-9c5c-01a8dae391f3"
      },
      "source": [
        "#!/usr/bin/env python3\n",
        "!wget -O cloudlink.py https://raw.githubusercontent.com/MikeDev101/cloudlink/master/cloudlink/cloudlink.py\n",
        "!pip install websocket-server\n",
        "!pip install websocket-client\n",
        "!pip install pyngrok\n",
        "# CloudLink 3.0 - Server Mode Example Code\n",
        "from pyngrok import ngrok\n",
        "from cloudlink import CloudLink\n",
        "import time\n",
        "\n",
        "# Ask for the ngrok authtoken\n",
        "print(\"Get your authtoken from https://dashboard.ngrok.com/auth\")\n",
        "\n",
        "authtoken = \"1kleoNBXXyfz5rNSx0fraUE0s9Z_4Yg8sKeJwboQ1SR6FH36i\"  # input your Ngrok auth token everytime you run the cell or simply replace \"getpass.getpass()\" with your token in \"double quotes\"\n",
        "! ngrok authtoken $authtoken # login to ngrok\n",
        "\n",
        "# Connect to ngrok\n",
        "url = ngrok.connect(3000, 'tcp')\n",
        "print('Your server address is ' + ((str(url).split('\"')[1::2])[0]).replace('tcp://', ''))\n",
        "\n",
        "\n",
        "if __name__ == \"__main__\":\n",
        "    cl = CloudLink() # Instanciate the module\n",
        "    try:\n",
        "        cl.host(1234) # Start the module in server mode, host on port 3000\n",
        "        \n",
        "        while cl.mode == 1: # Some other spaghetti code to keep the script running while the connection is live\n",
        "            time.sleep(0.1)\n",
        "        \n",
        "    except KeyboardInterrupt:\n",
        "        cl.stop() # Stops the server and exits"
      ],
      "execution_count": 0
    }
  ]
}
