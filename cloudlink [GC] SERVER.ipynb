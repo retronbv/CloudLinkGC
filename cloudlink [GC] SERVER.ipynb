{
  "nbformat": 4,
  "nbformat_minor": 0,
  "metadata": {
    "colab": {
      "name": "cloudlink [GC] SERVER.ipynb",
      "provenance": [],
      "toc_visible": true
    },
    "kernelspec": {
      "name": "python3",
      "display_name": "Python 3"
    },
    "language_info": {
      "name": "python"
    }
  },
  "cells": [
    {
      "cell_type": "markdown",
      "metadata": {
        "id": "18MdIZuG-dNL"
      },
      "source": [
        "# **How to use cloudlink [GC]:**\n",
        "\n",
        "![image.png](data:image/png;base64,iVBORw0KGgoAAAANSUhEUgAAAT0AAABJCAIAAADAPWapAAAgAElEQVR4Ae19CVgUR95+9QzgEa9oEmOSjYmb7CabzbfJP7sDw+EM933fAwwwwAxzAMNwDHKfglyKoCCCHMoNcoPDDXIfiiTReMSDHOuxMWuMMRp1/k9TpJ1vGBQUjPg1Tz881T3VVb96u9/6/aq6621AIlPwDUcAR2BpIQCWlrm4tTgCOAIkMgXnLR5u4AgsPQRw3i69a4Y7HBwBnLc4b3EElh4COG+X3jXDvQ2OAM5bnLc4AksPAZy3S++a4d4GR+DJebuVqq1vZMpgsiIiIpOTk3elpe1KS4tPTgoNj/Ly9nN0YmjrGuH44gjgCCwGAk/CWycXl7LysmZRc1f/0InTFz//8uuJiTOTV69evHL1q2//ffz0hf6xkxMnz16+crWvbyA0PGox7MbLxBH4v4zA/HjrzGQdO3G8oDj7zNdnzk9eOn7ydHN7X01D29DoF5+fPf/d9Zs9I+MxSRl7D5S2dg9d+vZ7sfiBWCw+d+5r4bawPwrlhMQUK1vHRapdUZmqslVrkQrHi8URmA2BefA2LSO1oqX2x59+zC/N/XrywvdX/9PY0u63Ldib79tQUzsyMPTt5JWsfXl2NDdvv9DC0sPjn3/54AHKW/h3uLp2NiPmdfz0mbP37t3TNzKXPMvEzOb+/fsnJj6HB6Ni4s+fv6CkQiWRKWKxWOAfJJl5tnRJWQU09d69e1evXjsianWku2GZsV9hnlOnTiupUL/59ru8/INYHpg4c/ZcU7NI6iC+iyOwgAjMibcqFK2q6qKxEz05lQU//vTjoeqiry9euHTh28qSKraLi5+9ZU/69pMH937dcLhkV6q/Jy8uNCYvPXtA1PHL9RsYdR88eDA+PmFgbPmU1l+5clUsFu/OyJQsZ192rlgsvnRpEh6kOTH27N0H0/Pi7YWLlxjubE+Od1x84slTX929e9c/MBiWU1JWcfHSpIcnD24OTgwSmVJWXnX58hXYQWBVi8ViT4433MX/4wgsBgKP5y1ZTcOV6TR6vGN0vGtn3u4fb/ywLy/ty6HB8arG+oS0AzyvejbtYojjZKjt2W30/nDuQT92Fo+f7c6v9Yv+qrTpx7OTd279cv/+g3sogx+cPXvuKal7586d4ZGxCxcuSsLxzTffDo+M3bhxQ/IgTM+Lt6dOncZKUFKhNjWLbty4QdHQI5EpJWUVkr/CbDQnhlgs5nr5YmcVFZd98823isqoq3/6jaKhp6Vr/PTl4CW8YAg8nremNEt3rlPvQNPwsfaotKjrP1zeH+bTm7ij3saxQEWz1kD/LMfs31y1SRbpvKvSOF25zEQpgaSU8A9qNsm4xsCjKyT14sDxO7/euX3/t3sP7t+/f//Y8RNPDCJFQ08sFvv4Bty/f9/V3ROWw/T0+uWXX4Tbwh48eKCkok4iU+LiE69evQZ/xXi7Pyfv2rVrZpZ2JDLFzNJuYHD41q1b589f4Pn4wZwzmWlgbCkWi0PC0Kk1+CtZVYOsqgFrgWedPPUVFhUrqaj/8MP1PZnZ8KeZ/9WoOlyfQK5PID8g1IsfxPUJtKG5zMyGHTG1tLd1cMV255ugahpY2tJnnqVG1bG2o2toG0r+5O7pw+IJWFx0o6jrwp+UVDVMLe2NTG0kc8K0pS3dyzdISaKHcmN6uzEfBhpkVU2+X7CFzWJNLsw06f/OkcfwVtvMxNLZms60a+0sHxhtDk4QXj97ss/Vvf6fqgf/8lH2lvcrPv34SyulSfr/nHf85Cvap6NWn1Xofrr944/C3/8k7m/klI8pmcrGjYKYy6fPXr9+/c6dX3+6fev6zz+XlFc9GcSmFrZisdjQxLKvfwAbMNfVN9bWNTi5eIjFYl19U5m8jd+R8t//3rClOZPIFCUV9a/PX2hsOqKuZRATt+PXX3+FIcBM3pLIlGvXruXk5kPeTo/UxeK7d++SVTVgE+J3pPzyy23ok339hPfv359LQOHu6aOtb/JYEGbj7Rz9uba+iYsbR6oWM0t7T57AyMwWawLM4Mmb7r+w/Fp6xhwvfytbJzWqDnYQS7C9A1zcOEam1tgRT56A6xMIoSCRKaaW9jy+0Jb25P0OVjKekELgUbxV09YxdrIwd7KwoZtWN+R09VX4C+hnYpOaPtta9M5H2W+9v/uNzTlb3mnf+vcTJn8fN/lowuIfXfofFpA/iHn/PeHbfwna/HHYnz+N+su/UpW0RBz/idbWye8uDH010Toy8uX5i36/jxulDHr0rguDJRaLVSnawm1hN2/+rEbV2aque+vWLTcPjom5jVgstrFH3YuUv62rb/zp5k1nVyYs3J3JFYvF2MzW5OQ3icm7MI8qZcBPN2/uz8mDv164cNHZlQk37KZX1zK4fft2dGw8iUxpa+/s7RuQKkHmrhRv7RwZHmw+k+Orb2RBIlM0dAzdPX3cmN5s7wDoby2sHT3YfDbPz8mVRSJTmBxfdS3UW1raOFrbo50R3OgMTw82n+MdYGZFU1JRZ/EE3oIgeArMoK1n4skTKKtNdzokMsXaztnOER2re/tu82D7sLgCc2sHEpmirKrJ4wvVtQywwiUTBsaWTi4sLV1jDzYfO+7FDzKzomFEZXF9za0dHJ09sAx4YqEQeBRvjWk21gw7G1cbc3uD4vLdLd1FTGfDNgOr8vf+cWDTlj2vvJm2fmPahldz/vR61cdb6v/5Z5Hq38v++cHO97eEvfF24MbNwtffC33jw5C3Pw5555Nckn5paERxZXFGYW70rpS0A/sLKyufoA18QeDt27fRu0pN8/r162ERMRFRcXCsC0NopqfXTN6ePXvu2+++wwaKwaGRYrH4zt27cPvtt98KDhbJ5K2JGdoXBAWHy/wVs7+hsXls7LimtuGdO3cCg0Kx449ISPLWwNjSxZ1LIlNUtmrz+IFKqhosDl9TB31rBfO3yqqaUxm0vHyD1Kg65tYOkK5Mju/WqeE3rAtm09I14Xj7k8iUmf6WRnd3Y3m7e/p4cgW2NFdFZYoaVQe6UxWKlqIyRUlVw4PN1zEwMzS1Znv5Mzx4LK4vncGWetzFYHpp66HxgidPoK6NmqqoTPHiBymraXB9ApSUqVp6xs5ubB19U1cPtGn4trAIzMpbJxbHhuls4WJj42pjaqefeyipvbVQYKhe/YFiwcb39ry8KWXVhqQVrySvfDVl1fpda9bvXv9K5qY3k197K3zdG0GrXw9Y/Xrg2reC1m8RvPYX37f+lvSBcqone1dORtzu1MCoqKjknTmllQyuYL6NiYiKu3z5CjzrUHHp0PDoyOhY2u698Midu3chbaT8bYAwZGR0bHhkDDpJdyb3zt27UjfiTGYqKlNb2zp++OE6vK1lRtGwXqan14MHD/ILi65fv66shhLssZskby1t6Za/DwI92HyqlgHfb3oSG+OtsZmNG8vb0dnDy1e4VUNPlaLN9vKnaOq7s3wk67KlubqxvBzo7jy+UCZvnd3YZlY0dLCgTGUwvaB7lyyBRKbY2LuYWdFMLe2dXFlwJI/5ZJiToqHHDwhle/mzvfy9fIUOUx5VZas2jLRpdHcjU2tHF6aOvilVy0DSIUtVhO8+MQKz8jY2PcuK7WrBpNmxnEztjTOyt4uO5Htpq+zf8mHW2jdSV26MV3hlu/z6BLn12+XWbpdbG6ewIVbhlWCFV/3kX/NReJ2zbKP7io32q980evlt61e3hP9NMcjFOXF3SnhcjJe/nzAyIv1ATnRq6nzt3rV7z+kzZ+FZNvb0+/fv37l7V9fADB65du3a9vikmf5W4B+krWf83XffV1RVk8gU1a1aly9fqW9otrZ1dHBipO/JCo+MnY6E4XMgrk9cfOIXX5y8ffs2Nlcs9RyI4c6WNP7ipckHDx4cKiqVPPiItCRvUX87NQpVVtPi8YVkVdRlwc6C5uRu6+CqqEz1Fmwjq6orqahzvP2hg3X14Lq4cUzMbbFatPVM4LQQRUNvmrd6Jq4ePCwDiUwxt3Kg0d3hEQaTp2tgDv2tylYtqqY+HPx7sPlausYa2oZMjq/S1DDe0sYJi35JZIqdIwObbVJW0/QWBCmraalrGrh7opNS6loGLK4vi4vOsatStLneAZIG4OkFQUA2bxXV1PeUVNrwmOYsR1u2k7Gd4Y6U4NrafW5GKgWGOrEvv8GX38AnvuJHXB9AWBuErAsmrPcnvuJFWO9MWGNBWKtLfFlVbt3/k1/zwbI1W1avU1vzathHin72tMSUHcGRYSwvro/QL35XcuzORF2D+T3kyC84NDI6hrV84vMvOjq7sd1z576Gc7lS/ha+d0FzYvzyy+2IqDh0UGfrCOeT//OfH9raO23snCBv4czTb7/99u/Ll+sbmuBxWL7Uexc3b/6M1UsiU9L3ZGGja8njs6UleUsiU+wd3TzYfA82H85p6RlZsDh8Vw+eowsTjm/pDLaLO9fRhcniTgfGBsZWfP8Q8lT8DGtR2arlwebTXT3tHd3YXmicrKym6cnzc2OhYwe4Kamo0+genjw/T64ARtrQl25V10WDZ3Q+2dfM0h5mNrOkTR0R0BlsbEispKrh5RukStHGynR0YZpY2GnrmTq7Tfdl7p4+0KsrKlOx2AHLjyeeHgHZvFXW0ErLK3bx51t5OjvynM0dDMMieGVlu+zNlJrCecI339SRW6lEWKlCWKlOWKGDvGREWKtFXK2ELP8Ikd9MkN9IUNhAUFhHWLaeuPzdZStNl2+Iffczf2v72IRoQZA/g8Pi+PmEbY/xDRFaOzzThwSSd9vTY/fHlqBvZOnoMj3T9sdaoqj8+HHBH2vhi1e7bN4amVvuyswLCA13dndlMp1srHUC/F0OHIijW6u0pgZEv/snTTm5zQiyASFsAMRXgfzryLKNBPnVAFmGACICCAgijxBeQuQ2EZZRiGsC5TclvfE/Hvr6sdvDmRwPcztLJ3dnnwBfO7qjqc3DMO/FA3fxWmRlS2fxHj5lXbyK8JKfTwRk85bL4KbtzIwQhgV4eAQ4OzBMNWKC6JnpASFeps2J/D1/foclp7AVQd5ECCsAUQEQ5AFBASHKI2iCAACCIEQEWY0gHyDyToS1O+Q37Xzzb3Sq4q7UKDrdWo1CsrAx4HAYVIoaVX1h3it6PsHFrcIRWCQEZPM2P/JA3o4DheF7S4OTcpnsDEfTvHCXvFTOwTROdTKn8JO/Ry9b5YLIfYrIrUNQ3soBAmSvPEIgoLRFCAiyHiAUIC9A1iQTX0/Z+NcEE5O8tARvLzcre1MWxyV8m6+dhZ6d1fzGt4uEAl4sjsDSQkA2b0UZXzVu72+NbjoSlFHFYFQ6GNUFOTfkhTS37czP8j742T9Slq/zA/JWCPETNFQGqwFYAQjLACIPUE9LJCDLEeQ9QKCBZSFgVSTxNb7chp0fqpUm7dxzuDm8tC46vywlKS3CnxHijz+UxweHOALzRkA2b0/nHp3cP/BNQsGlsMDJMNdvd7G+b428dnH/+W/2te5yyXlrczxhdQxYIQQKLoCgDxAqILxDkH8FIKsAshwBqxDwPkDMgAIfrPQHKxnIahNkuY382p2GptUVdUWnL+8dndxd0VFUUVJRO9cHJ0urO8StxRFYVARk8/acKGvy6P7JoxnX2hJudMb/PJF+ezLv7k8NP12tqtEjJ7/0chiyPAasiALLggHRFxB4gOAIFCyBvD4g6CEEI4RgDwiegOgO5CyBvDoiTwFyxog8/40tlRl7O7+/WnvlVv7xC4c7+lvaGxa1eXjhOAIvJAKyeds0WjD+Y/2JG1UXLhf+91TGndHk34bT7o5kTRaH5b21OYK4wh/IhQCFOKAQC4jhgBACkGAgJwRyfoDoD+R8gBwbEFwBYgIQVYB8BghbAWIBiB7L1hawvM8NHrt04T/jp68d7Rzvqj3yQsKKNwpHYFERkM3bnJq847/2nrxV//1kwa3R9HvtiffaM/7bXNhsYJC0fJ0/Iu+F8lN+O1BIAvLxQC4WECOBXAQghgFiKJATAKIHINgARAcAMgAkQNQDRA9kBYewJvFT1bHd+24Onro5/M0PR88dzihZ1ObhheMIvJAIyOZtcHz4qest3108+PNwxm+ixHvNO28eOXRye2baus1BhGUsQHADiA8gRgO5RCAHeRuFUpcwRV05ISDyEKIzOsQFGuisMtEWyPkha/yQdUGr/1Ssb/9dXt29zrP3ur9O8I95IWGV2SglFSpc9iDz14U9yPPxk1wkvLCFw9Lorkxsyd5ilI+X+QgEZPPW1Nri0telP/Wl3a2PvV8V89vhxCs5adXqtqHICm9Ejg4QBwB4gBAGiHGAEAeIMQCJBEgEuhEhdQMAkQMQOgDmADEHBA9A3IasEYK1AmTd9k0fdnkE/1w3drf9jLXJvN+7CAwK7enpHRoe7ent9+Shi8iU1TQDg0KP9vZnZu2XaqqbB7u2vrGz+6jU8T9kV42qI/mS5qLaMHZsfObCiYWtsbWt09js4eLbhS1cZmmGJpYLIgAk8A8q/30FuJOLu/WiyQbKbMWCHJTNWxKZ0lCZfq01/+fq1J8rE68X7JjguKWs3SQA8jwg5wQIdgBwACEUEGNR6k7zNhyAUICEIoRgNIpGeAAwAHACiCsg+iAKYcQ1gcgqPljtL/9q5r90z2SUD2Qfnm8b6C4eXT29WlNr3HQNzKBQY2hEdGpaenxCshRvHelu+QWHeD5+XT29861oMfLjvH1KVDk83wP5hU9ZCIlM0dI1tneYlhlJ35sVIAx5+jKfcQmz8pYVEN77+YXP+/onujp7D5QdJJsEIitZU7PEdALBAUG4KG8JsYC4HWUvIRwgYQCEALANIEJA8AOINwI8EYQGEDuAhC5ft/ONzcHL1/LBaj6yJuLV9+ocvcLYD993n2Ozo2Lj09KnV+1JnSLwD5LiLcygZ2g2k7eLHUNK2QZ3X1TePjMwF4q3kldHkreKylRJiT/JbM9belbeksiU1O6T+ed+qTh2pTwyN3LDB25gBR0gzgjRa+06prwCH51JRp3tdnReirANgCAAhAAJBEgAQAQA8UVjacQGQSwQJOC110a3c5L++q43YQUXrPRetj5y67yfNZPIFGcGc3B4xMxCRnQ9L972DQxh6kqdXT2e3OlVrNk5eb5+6MrViKi49o6unt7+nt5+Nnda0iEqJr77aF9f/+ARUaue4fTiQXhFhcFhwuCwpNS07p6jMEANjYgWidra2jt27d4DZWUkeWtgZFFRVdMsamlsbrGxm5aAmnulMwsnkSlefP/2zu7unqNt7R2nTp+RipPzC4u4XoKDRSXVNXWtbZ2W1ugqXAhpY3OLSNRWVlGFqVvItKRZ1GJp49DY3ALXVME42cTcRrJbDI+MS8/IkrzLjU2tSssrIW6l5ZXQKmFwWFxCUkbmvqrq2o7Obh/fQMlT4ALAzH25zaKWtvYOeEWYnl4Dg8MnJj5v7+yG3lImhlJGtnV0urO4lYdr6hoaq2vq1NRRwR1Pjnd+IaqUkJCYenx8Ymh4tLWtU0lFPb+wyIuPrqOC6xlHR8ewm4REppBVNbJzDvT09Pb09ota27GbMDg0sqGxub6hKSs7N7+wKDkljUSm6OiblJRVdHR2t3d2C4MXXjz8Uby14QXnfPFzbcnAQV1HnvxaGlCwR4jslS+XW1iFb9rkj8iFoqNZQij6EAgEIOgWOEXdbYAgBAQ+QNwBsALAlkgIJ318qj0+00SV/9JLbCDPJawy/kxJ6lLNcTcwKHR07Pj+nHwDY1TSBdvmxds9mdmCgG0kMsXAyKJ/cDB7SomGRKb0DQzBuRa6iwdcAWtmYTs4NEIiU6DfhivvjU2tpJYWCYPDRseOx8Ylwg7bk+vTdESkStFWVKbmFxYFh0aSyKiyBBzfKipTW9o64ODcwsq+b2AIrrafY6UyC3fzYHf19OpMaVZRNPTGT0zM5G1dQyMcYgQIQ/ILDsHba3hkDCIZFBxxsGh6en+mJSQyZWh4tL6hydjUCmKOjW/bO7uxXqCxSWRL+19KdLr6ptZTyyRJZErhoRIYlAqDw4aGR2GHZWhqNTQ8il1HmNidngn5T9HQ6+45amGFLi2U9LezYShl5PDIWHpGFrxqeQUHoawCxlt0AaZEnMzh+RaXVkADGO6e5ZXoam3JzY3Jhdd3W0gkjNjtHVwam1tgxJGVnZuSuhteysbmFtgZqWvqo9d6oXV5H8VbEpniH5SWYeEftPY9Z2SZJZCzVFixw5xzYE/zDhVTwbJ1foAoBJCrqKcNAoQglLGIEJ1tJriij4KAJQAMglzoX9/LrYvJPhgWq6vot3qt7cbNknDMN61G1YnbvuPY8XGu10PFjHnx1pnBLCouI5EpIWGRAcKQjs5uRWWqta1jRVUNZoyiMtXMyp7nLfjyy1PocnBN/dHRMZ63QIoPML8wOKykbPqSk8iU4pJyzDaaE6OuoVGStxZW9pLLhg9X19F/176aS6UyC885UCAp7z5zXiq/sIjDm9aLdXJxr65F33gJCY/OyJwWmlZSoY6fmMD0OqQsIZEpI6Njkl9+wHgbHZuQlDrtZHpmmUqgauo5M5iFh0q270gmkSnC4LD0vQ/d8qnTZzDYYeLY+AnM18Vt35GQiEosSPJ2NgyljBwZHVOf0gMgkSnxCcmw9tl4q6ymOTo6BvvrrOzcmVEAnAS1oznHxidCAIOCI3amZUCbed6C3Dx0+G1mZd/e0YW1yJPHL6t4QiFErBCpxGN4iy7pfuMDR8JKR0TOjqjg8vpfsyMrD+45lqBq5b18DQd9Uwp4A8BHEL8pTysEiB9AvADiAhBbgNDQeSnghhC9X9mQnO+/uytub5g97/0/SxnxZLs29s7jJyYwZcN58VZJhdrbN6CspllecVhLxyiv4KAdzTkuIQmbogjcFtbR2X0gvzA8Mg7ylkSm2NLo+YVFI6NjmftyYMSFWS51Ix4RtYpa2+sbmusbmhubRPUNTZK8dWdxj42fgL/WNzR3dh+FofgcK5VZeENjs92UWiU06bG8ralDu5KUXRm9fQOYJX39g9p66EoPmZZIcoBEpmC81TUw6+nth71Awo4UDBOY0NU3LS+vamg6kpK6u7ikPD7h8bxVUdM8feYsZlVLW0fKLpQbkrydDUMpIyV34xOSYe2z8ZZEpmTnHPD1EyqpUPv6ByGBseaQVTXSM7LaO7oyMvelpqVDAK1tHdvaO6iaekoq6oeKSuH948bkShLV0prW1tGJlbMgicfzVukzsvHK1XYI4rR8VQiFXrhnLJeVG/Lmxxyigiu6cgCxB4gTSmB0WOsHEA5AHAFiCRAbAFwB4gYQBwRhrV8bU+ib1BcVG0NXU1JbENNJZMqXJ09h/JkXb0lkyr79uZ48PvSEPB+/xOSdDY3NsI+3snWUHABPfP6lpMEqappZ2bnQA2DHpXhbXFJOd5FeMoHFyRZW9rX1KG0kt7lXKrPw4tIKN+ZDBbY58jYkPHom02azRJIDkrwlkSl1DY02dvS6hkYsisaaVlJWAcfDJDIlKjZ+LryFvn3mdJckb2ViCE/EHKzU7lx4S3dllpdXOTOYcByBtYJEpoRHxBaXVsA42Y7mDHlLIlNi4nb09PbX1jdGTWl6ksgUCyv7dgkZFk+OtySNJct84vTjeYuO0T8jm6xex1i1IYEWkr9nYo9Nkv/6dzkI0QV9NovoAaALECfi8sDVawXLVrDl5O0RggU6jQwYAPEAiBWCMNatCs3j8XMFWzUf6ps8gdFuHmxLG1QllESmhEZENzY9/AyPJG9DwqK2/q7cLXM+mUSmuDE5Pb398Dbaqq7b3XP0cHUdLNnNg115eDpg5vB8YRRnYGSBPTwIj4xL3Zkuab8Ub9lcfkVVDRwDa2gbwpkJjLeKytQjLW0ujIe67ZY2DnOvVGbhAcIQ7K7yDww5c/acVDwvFSfD207HwKy75yiUpCWraoRGRJNVNWRaIsUBKd4GbgvLOVDQ2NwiiQlMNza3QNzUtQyqaxvmyNv0PVlYh2JuRYMTh+4sLjbmlInhTCMl+xqZvE3ZlREVE4+ZraiMBmL5BYfcWQ87QfhrckpadGwCnLLamZaB8bZZ1BK4LQyL6qekLdHryxegk21UTb0jotZnPb7F2oNK9W75MFmQnJE5kRFUH7T5X54EeToAJgBQAFBZtsL2Y7UwS/dwTYvof3zCWrWKBoAjAG4AYaK8BS4rl3H5C/CM3pPHF4naRsaODQwMHSoq1fldEY5Epkjy9szZc4Ym0x8imo23Sirq4ycmsLnc6pr6kDB09ghemIKDxRVVNfmFRejM6lTfaWZhW11T191zVNTaXlZRJXmdZg7YYNDY3tHV3tnd2NwCLxvGW3Q+zNiivLK6vbO7o7M7M2u/hrahkor63CsNCY+WKlxRmZqSuruhsbm0vDI2LlEkapsLb+F8crOopb2zu62jMzJmu5IKqj4305KZlMDiZHh3nvrqdGhEtOQNA9NuHuzG5paCg8UH8gvjEpLmyFs1qk5m1n44H1tWUQXnpdSoOo3NLd09R92YqJj7TAxnGvlY3lrbOfX09nd0dmNz6alp6WPHxmd6e30j8/qGpqLisoNFJQL/IDi+VdfUr65taG3rHD8x0X20LzYuEQ7c9AzNysuroP1Qx3cmMk9zZE7+FqvA3Jbht6s9IXFY+D7Fg6BgD4AhQFQQRPXlV1mBOxMKOvcdaCj34Qa/ucl16qULFgAsgFitfEn7w4+xQvDEC4lAZ1cPplC9pBvo7RvwiC/FSDWt8nCNt++0YKWFlf0RUSvP++FcqVTmBdydH29hxZbG7oy3P3KfGsFqAaAIEI31r/tG762o2nu4NCXfxUTw6ssuU7x1XL1O/70PFtBcvKjnEwEnF/cFH8L9IS1VUqFW19RjD64ea0N3z1HsuRdZVaPycA32aOCx5z5NhifhLaxP7ROS9jvvU195TXnlSwYbNnoKEvZnx+/Z4y/UUrF5623dd95T++RfT2MZfu5SQSArO2DxTVIAAAVlSURBVLerp9dU1sswS6UJ0E5zK9rg8EhK6u65m21j73y4uq6qurbycE11TR32PGLuJTxZzifn7ZPVh5+FI4Aj8PQI4Lz9Xw9jnh5QvAQcgWeAAM5bnLc4AksPAZy3S++aPYPuHK/iOUcA5y3OWxyBpYcAztuld82ec1eAm/cMEMB5i/MWR2DpIYDzdulds2fQneNVPOcI4LzFeYsjsPQQWGK81TEww14re857xOfEPByx5+RCLKwZS4y3UsvlHouFwD9IcjUmlr+rpxeTVsEOLrmEsppmWUXVwOCwjb2zpPGSrZ4Nse6eozQnhuRZeHoJIfCC87a9sxtb0Cd5VV4M3to7uUquQMYaKNnq2XjrzGBJ6Tlgp+OJ5x8BnLfPemwzc2HnE98lzgyWzFU4c+HtE1eKn/g8ILD0eJtfcKi4tKJ/cLCtvcOR7gZBrKiqcWawYNqDxYOqfOUVh099dbqnpzfnQIEU1jP9rUyVTWMz6/LyqpTU3eXlVY3NLSHh0+vChcFhiSm78goOlldWNzQ2OzOYsHwpEdCZYpxKKtSh4VGoukgiU3g+fgUHi2XKjkoZTHN0bWxu6ejsbha1wFY70t36BoY+/+LL9s5uSVFYqVYLg8My9+Wm7kzv6e0fGh7FtM6wVe9uTA5UnO3q6ZVUupEyAN99rhBYerw9Nn7CyRmlq4OT27HxE1A2VSZvSWSKpOeRxH0mb6eUa6RVNo3NrL86fQYKpqqoaR4RtcIP/EAZURNzGxKZom9kPjo6BvVNpURAZYpx7s3cj/G/qLgMFihTdhQzWEvHaGBw2GxKi9TSmjY0PKqrbzolVTEnfzt+YgLqztnS6MMjY7BYjLe9fQO6U7Ih6loGMIHViyeeWwSWHm8l9TvLy6sY7qhK04LwdqbKprGZtaTAV2BQaPoeVD1UatCYX3AIEkNSBHQ2MU57J9eGJvTroWrqOgODwzBslik7it00IWGRsF54JD0jCyqtPUGcjCmeYrxtOiKKjUvU1DHEqsMTzz8CS5u3+/bnQvWtp+etTJVNKd5yvQQwrJXibUbmPqghJKlm9Agxzp7efh0DMx/fQKhdPJvsKHb3pO5MxyQRoSAe1ARfEN7q6pumZ2QNDAxVVNXMVGPEbMATzxUCS5u3tfWN9k6uJDKlvLJ65vh2XnGyTJVNKd7GxiUmpuya6W+rqmtd3VC3L8nbR4hx7kjaGR4RW1JWgQlEjoyOPWK+KiQ8WjLKSEvfu4D+FrsdBQHboCotdgRPPLcILD3eYppdHJ5vS1sH1LPdn5MPPZ66lkHl4RrsaxFHRK0y39OYOb6VqbJpbGbd09uvoqZJIlMMTSwHh0agYL8wOCw3rxAq97mzuINDI1A8UZK3UChUphinsalVW0enZAQuU3YUu2m09YzRryJNjW/NrOwHh0YePb6VbLVUaDAzTubwfCGG1raOzSIZQqqYGXji+UFgifGW7uJxpKUNlbfs6CoqLsN0WM0t7USt7dU1dcUl5T6+gRhv/QNDBodGsF0M95m8lamyaWxmjU7YdnS1dXSKWtsxTV04LwXNOFxdByeopPwt/KTQbGKczaIWTB8YfspgpuwoZi2JTHFydjsiau3o7G46IsJm0WeLkyVb/WjeqmzVyi841H20r6Wto6HpiNT7G5IG4OnnCoElxttnjJ1UnIzVLkUG7DiewBF4NgjgvH3Uexc4b5/NXYjXMl8EcN4+ireaOoaB22R8vJTm6Ip9JWS+iOP5cQSeHgGct4/i7dPji5eAI7AYCOC8xXmLI7D0EMB5u/Su2WL033iZSwsBnLc4b3EElh4COG+X3jVbWp4Bt3YxEMB5i/MWR2DpIfD/AVBj9KfEyZmPAAAAAElFTkSuQmCC)\n",
        "\n",
        "Cloudlink is not owned by [retronbv](https://github.com/retronbv). Cloudlink is owned by [MikeDev101](https://github.com/MikeDev101). Cloudlink [GC] is merely a way to run a cloudlink server on Google Colab.\n",
        "\n",
        "\n",
        "1.   Click the run button on the cell below\n",
        "2.   Scroll down below the code to input your ngrok auth token\n",
        "\n",
        "\n"
      ]
    },
    {
      "cell_type": "code",
      "metadata": {
        "id": "8osRUH2038is"
      },
      "source": [
        "#!/usr/bin/env python3\n",
        "!wget -O cloudlink.py https://raw.githubusercontent.com/MikeDev101/cloudlink/master/cloudlink/cloudlink.py\n",
        "!pip install websocket-server\n",
        "!pip install websocket-client\n",
        "!pip install pyngrok\n",
        "# CloudLink 3.0 - Server Mode Example Code\n",
        "from pyngrok import ngrok\n",
        "from cloudlink import CloudLink\n",
        "import time\n",
        "import os\n",
        "clear = lambda: os.system('clear')\n",
        "clear()\n",
        "# Ask for the ngrok authtoken\n",
        "print(\"Get your authtoken from https://dashboard.ngrok.com/auth\")\n",
        "\n",
        "authtoken = input(\"token > \")  # input your Ngrok auth token everytime you run the cell or simply replace \"getpass.getpass()\" with your token in \"double quotes\"\n",
        "! ngrok authtoken $authtoken # login to ngrok\n",
        "\n",
        "# Connect to ngrok\n",
        "url = ngrok.connect(3000, 'tcp')\n",
        "print('Your server address is ' + ((str(url).split('\"')[1::2])[0]).replace('tcp://', ''))\n",
        "\n",
        "\n",
        "if __name__ == \"__main__\":\n",
        "    cl = CloudLink() # Instanciate the module\n",
        "    try:\n",
        "        cl.host(1234) # Start the module in server mode, host on port 3000\n",
        "        \n",
        "        while cl.mode == 1: # Some other spaghetti code to keep the script running while the connection is live\n",
        "            time.sleep(0.1)\n",
        "        \n",
        "    except KeyboardInterrupt:\n",
        "        cl.stop() # Stops the server and exits"
      ],
      "execution_count": null,
      "outputs": []
    }
  ]
}
